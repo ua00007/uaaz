{
  "nbformat": 4,
  "nbformat_minor": 0,
  "metadata": {
    "colab": {
      "name": "ML: Exercise 2.ipynb",
      "provenance": [],
      "collapsed_sections": []
    },
    "kernelspec": {
      "name": "python3",
      "display_name": "Python 3"
    },
    "language_info": {
      "name": "python"
    }
  },
  "cells": [
    {
      "cell_type": "markdown",
      "metadata": {
        "id": "4Xl_7PbqSSVp"
      },
      "source": [
        "# Q1"
      ]
    },
    {
      "cell_type": "code",
      "metadata": {
        "colab": {
          "base_uri": "https://localhost:8080/"
        },
        "id": "C8oO6IpjO7Hp",
        "outputId": "81d63aec-854a-4a02-a74b-b76b0f519af3"
      },
      "source": [
        "import random as rn\n",
        "t=[0,1,2,3,4,5,6,7,8]\n",
        "y=[]\n",
        "for i in range(0,10): #loop for generating random numbers \n",
        "  n = rn.randint(1,30)\n",
        "  y.append(n)\n",
        "print(y)\n"
      ],
      "execution_count": 2,
      "outputs": [
        {
          "output_type": "stream",
          "text": [
            "[26, 29, 12, 10, 27, 26, 5, 7, 5, 14]\n"
          ],
          "name": "stdout"
        }
      ]
    },
    {
      "cell_type": "code",
      "metadata": {
        "id": "sh1xlXwEPQdB",
        "colab": {
          "base_uri": "https://localhost:8080/"
        },
        "outputId": "8d7ab81d-53ff-4d64-a42b-2e0e52f58e40"
      },
      "source": [
        "import numpy as np\n",
        "print(np.mean(y))\n",
        "print(np.median(y))\n",
        "print(np.std(y))\n",
        "print(np.min(y))\n",
        "print(np.max(y))"
      ],
      "execution_count": 7,
      "outputs": [
        {
          "output_type": "stream",
          "text": [
            "16.1\n",
            "13.0\n",
            "9.321480569094161\n",
            "5\n",
            "29\n"
          ],
          "name": "stdout"
        }
      ]
    },
    {
      "cell_type": "code",
      "metadata": {
        "colab": {
          "base_uri": "https://localhost:8080/",
          "height": 282
        },
        "id": "hkQmqxm_QzCQ",
        "outputId": "7c5403d5-64d3-4cfc-f1e0-b0caa0ad1e13"
      },
      "source": [
        "import matplotlib.pyplot as plt\n",
        "plt.plot(y)\n",
        "plt.show"
      ],
      "execution_count": 12,
      "outputs": [
        {
          "output_type": "execute_result",
          "data": {
            "text/plain": [
              "<function matplotlib.pyplot.show>"
            ]
          },
          "metadata": {
            "tags": []
          },
          "execution_count": 12
        },
        {
          "output_type": "display_data",
          "data": {
            "image/png": "[encoded data removed]",
            "text/plain": [
              "<Figure size 432x288 with 1 Axes>"
            ]
          },
          "metadata": {
            "tags": [],
            "needs_background": "light"
          }
        }
      ]
    },
    {
      "cell_type": "markdown",
      "metadata": {
        "id": "-vW4UyhGTJSN"
      },
      "source": [
        "# Q2"
      ]
    },
    {
      "cell_type": "code",
      "metadata": {
        "id": "WxVP0rBUS4Ar"
      },
      "source": [
        "input=list(range(0,101))"
      ],
      "execution_count": 13,
      "outputs": []
    },
    {
      "cell_type": "code",
      "metadata": {
        "colab": {
          "base_uri": "https://localhost:8080/"
        },
        "id": "VKl4XkGVUVT5",
        "outputId": "953a5cb2-744f-4f88-92b5-be7f8bde0419"
      },
      "source": [
        "input[:2]"
      ],
      "execution_count": 14,
      "outputs": [
        {
          "output_type": "execute_result",
          "data": {
            "text/plain": [
              "[0, 1]"
            ]
          },
          "metadata": {
            "tags": []
          },
          "execution_count": 14
        }
      ]
    },
    {
      "cell_type": "code",
      "metadata": {
        "colab": {
          "base_uri": "https://localhost:8080/"
        },
        "id": "_dfMJoccUYWJ",
        "outputId": "74180b10-7362-4b6d-c884-a16df1e1c1de"
      },
      "source": [
        "input[-2:]"
      ],
      "execution_count": 15,
      "outputs": [
        {
          "output_type": "execute_result",
          "data": {
            "text/plain": [
              "[99, 100]"
            ]
          },
          "metadata": {
            "tags": []
          },
          "execution_count": 15
        }
      ]
    },
    {
      "cell_type": "code",
      "metadata": {
        "id": "4wiVtARlUahg"
      },
      "source": [
        "#function 1 exponent of a number\n",
        "def exp(x):\n",
        "  list=[]\n",
        "  for i in range(len(x)):\n",
        "    num=i*i\n",
        "    list.append(num)\n",
        "  return list"
      ],
      "execution_count": 64,
      "outputs": []
    },
    {
      "cell_type": "code",
      "metadata": {
        "id": "irQ7436FWApQ"
      },
      "source": [
        "#function 2 1/x of a number\n",
        "def one_x(x):\n",
        "  list1=[]\n",
        "  for i in range(len(x)):\n",
        "    num=1/(i+1)\n",
        "    list1.append(num)\n",
        "  return list1"
      ],
      "execution_count": 66,
      "outputs": []
    },
    {
      "cell_type": "code",
      "metadata": {
        "id": "jLGt1OddYVRm"
      },
      "source": [
        "f1=exp(input)\n",
        "f2=one_x(input)"
      ],
      "execution_count": 68,
      "outputs": []
    },
    {
      "cell_type": "code",
      "metadata": {
        "id": "G8bR7xYvcErN"
      },
      "source": [
        ""
      ],
      "execution_count": null,
      "outputs": []
    },
    {
      "cell_type": "code",
      "metadata": {
        "colab": {
          "base_uri": "https://localhost:8080/",
          "height": 282
        },
        "id": "vXFEqQAsYXUa",
        "outputId": "1f416d49-f93e-4432-e9d3-630046b4f9bc"
      },
      "source": [
        "plt.plot(f1, label = \"Exponent\")\n",
        "plt.plot(f2, label = \"Division\")\n",
        "plt.legend()\n",
        "plt.show"
      ],
      "execution_count": 78,
      "outputs": [
        {
          "output_type": "execute_result",
          "data": {
            "text/plain": [
              "<function matplotlib.pyplot.show>"
            ]
          },
          "metadata": {
            "tags": []
          },
          "execution_count": 78
        },
        {
          "output_type": "display_data",
          "data": {
            "image/png": "[encoded data removed]",
            "text/plain": [
              "<Figure size 432x288 with 1 Axes>"
            ]
          },
          "metadata": {
            "tags": [],
            "needs_background": "light"
          }
        }
      ]
    },
    {
      "cell_type": "markdown",
      "metadata": {
        "id": "8zx5iJ9qlp9N"
      },
      "source": [
        "# Q3\n"
      ]
    },
    {
      "cell_type": "code",
      "metadata": {
        "colab": {
          "base_uri": "https://localhost:8080/",
          "height": 265
        },
        "id": "gBZ9gQ1rcGYD",
        "outputId": "de282832-5f02-4377-f88a-cd4865cb606e"
      },
      "source": [
        "np.random.seed(20)\n",
        "N = 30\n",
        "x = [np.random.rand(N)]\n",
        "y = np.random.rand(N)\n",
        "colors = np.random.rand(N)\n",
        "area = (20 * np.random.rand(N))**2\n",
        "plt.scatter(x,y,s=area,c=colors, alpha=0.5)\n",
        "plt.show()"
      ],
      "execution_count": 160,
      "outputs": [
        {
          "output_type": "display_data",
          "data": {
            "image/png": "[encoded data removed]",
            "text/plain": [
              "<Figure size 432x288 with 1 Axes>"
            ]
          },
          "metadata": {
            "tags": [],
            "needs_background": "light"
          }
        }
      ]
    },
    {
      "cell_type": "code",
      "metadata": {
        "colab": {
          "base_uri": "https://localhost:8080/",
          "height": 265
        },
        "id": "VrRNoTmOmTKp",
        "outputId": "3ef5e5cc-e78e-40a5-ef77-27f00b906f99"
      },
      "source": [
        "\n",
        "np.random.seed(110110)\n",
        "N = 20\n",
        "x1 = np.random.rand(N)\n",
        "y1 = np.random.rand(N)\n",
        "colors = np.random.rand(N)\n",
        "area = (20 * np.random.rand(N))**2\n",
        "plt.scatter(x1, y1,s=area,c=colors, alpha=0.5)\n",
        "plt.show()"
      ],
      "execution_count": 189,
      "outputs": [
        {
          "output_type": "display_data",
          "data": {
            "image/png": "[encoded data removed]",
            "text/plain": [
              "<Figure size 432x288 with 1 Axes>"
            ]
          },
          "metadata": {
            "tags": [],
            "needs_background": "light"
          }
        }
      ]
    },
    {
      "cell_type": "markdown",
      "metadata": {
        "id": "f_dV-QtvzY2g"
      },
      "source": [
        "# Q4"
      ]
    },
    {
      "cell_type": "code",
      "metadata": {
        "id": "MgJi1KVimpoI"
      },
      "source": [
        "from sklearn import preprocessing\n",
        "scaler_x = preprocessing.scale(x)\n",
        "scaler_y = preprocessing.scale(y)\n",
        "scaler_x1 = preprocessing.scale(x1)\n",
        "scaler_y1 = preprocessing.scale(y1)\n"
      ],
      "execution_count": 190,
      "outputs": []
    },
    {
      "cell_type": "code",
      "metadata": {
        "colab": {
          "base_uri": "https://localhost:8080/",
          "height": 265
        },
        "id": "ePNcKmAAxiNo",
        "outputId": "c54baec4-176f-468f-839b-4a75cd10e88f"
      },
      "source": [
        "plt.scatter(scaler_x,scaler_y)\n",
        "plt.show()"
      ],
      "execution_count": 191,
      "outputs": [
        {
          "output_type": "display_data",
          "data": {
            "image/png": "[encoded data removed]",
            "text/plain": [
              "<Figure size 432x288 with 1 Axes>"
            ]
          },
          "metadata": {
            "tags": [],
            "needs_background": "light"
          }
        }
      ]
    },
    {
      "cell_type": "code",
      "metadata": {
        "colab": {
          "base_uri": "https://localhost:8080/",
          "height": 265
        },
        "id": "MeehXYv5yy8a",
        "outputId": "0e8b0bb3-359d-45cf-b0b1-6c3c82fabff7"
      },
      "source": [
        "plt.scatter(scaler_x1,scaler_y1)\n",
        "plt.show()"
      ],
      "execution_count": 192,
      "outputs": [
        {
          "output_type": "display_data",
          "data": {
            "image/png": "[encoded data removed]",
            "text/plain": [
              "<Figure size 432x288 with 1 Axes>"
            ]
          },
          "metadata": {
            "tags": [],
            "needs_background": "light"
          }
        }
      ]
    },
    {
      "cell_type": "markdown",
      "metadata": {
        "id": "EB40W9dizb8q"
      },
      "source": [
        "# Q4"
      ]
    },
    {
      "cell_type": "code",
      "metadata": {
        "id": "9QRreH5h0Gv-"
      },
      "source": [
        "sum=[]\n",
        "for i in range(101):\n",
        "  dice1=rn.randint(1,6)\n",
        "  dice2=rn.randint(1,6)\n",
        "  num=dice1+dice2\n",
        "  sum.append(num)"
      ],
      "execution_count": 215,
      "outputs": []
    },
    {
      "cell_type": "code",
      "metadata": {
        "colab": {
          "base_uri": "https://localhost:8080/"
        },
        "id": "bpyrNNmZ1p3A",
        "outputId": "d801a5a5-96cb-43b0-80d1-604c89310e88"
      },
      "source": [
        "print(sum)"
      ],
      "execution_count": 217,
      "outputs": [
        {
          "output_type": "stream",
          "text": [
            "[5, 11, 9, 7, 7, 10, 8, 3, 9, 7, 5, 5, 6, 6, 10, 10, 2, 7, 6, 8, 9, 7, 4, 7, 6, 8, 9, 7, 4, 8, 7, 6, 7, 8, 9, 9, 8, 10, 6, 11, 8, 7, 7, 7, 10, 6, 6, 9, 10, 6, 8, 10, 8, 5, 8, 5, 6, 9, 9, 7, 8, 3, 10, 5, 5, 6, 11, 5, 8, 9, 9, 5, 4, 3, 7, 7, 10, 11, 8, 7, 7, 8, 11, 5, 9, 9, 9, 5, 10, 3, 8, 4, 10, 11, 6, 4, 3, 3, 7, 7, 11]\n"
          ],
          "name": "stdout"
        }
      ]
    },
    {
      "cell_type": "code",
      "metadata": {
        "colab": {
          "base_uri": "https://localhost:8080/",
          "height": 279
        },
        "id": "sTBYaA9h1ryC",
        "outputId": "f57543ad-e513-45a7-d1e5-a352a9b8cf07"
      },
      "source": [
        "plt.bar(sum,sum,color='green')\n",
        "plt.xlabel(\"Total count\")\n",
        "plt.show()"
      ],
      "execution_count": 221,
      "outputs": [
        {
          "output_type": "display_data",
          "data": {
            "image/png": "[encoded data removed]",
            "text/plain": [
              "<Figure size 432x288 with 1 Axes>"
            ]
          },
          "metadata": {
            "tags": [],
            "needs_background": "light"
          }
        }
      ]
    },
    {
      "cell_type": "code",
      "metadata": {
        "colab": {
          "base_uri": "https://localhost:8080/",
          "height": 316
        },
        "id": "h-agb7XL3vt_",
        "outputId": "e27f6cfe-c829-4806-9a6c-93c9ff381639"
      },
      "source": [
        "plt.hist(sum,bins=10,color='green')"
      ],
      "execution_count": 234,
      "outputs": [
        {
          "output_type": "execute_result",
          "data": {
            "text/plain": [
              "(array([ 1.,  6.,  5., 11., 12., 19., 15., 14., 11.,  7.]),\n",
              " array([ 2. ,  2.9,  3.8,  4.7,  5.6,  6.5,  7.4,  8.3,  9.2, 10.1, 11. ]),\n",
              " <a list of 10 Patch objects>)"
            ]
          },
          "metadata": {
            "tags": []
          },
          "execution_count": 234
        },
        {
          "output_type": "display_data",
          "data": {
            "image/png": "[encoded data removed]",
            "text/plain": [
              "<Figure size 432x288 with 1 Axes>"
            ]
          },
          "metadata": {
            "tags": [],
            "needs_background": "light"
          }
        }
      ]
    },
    {
      "cell_type": "code",
      "metadata": {
        "id": "NglRog-w3ya8"
      },
      "source": [
        ""
      ],
      "execution_count": null,
      "outputs": []
    }
  ]
}